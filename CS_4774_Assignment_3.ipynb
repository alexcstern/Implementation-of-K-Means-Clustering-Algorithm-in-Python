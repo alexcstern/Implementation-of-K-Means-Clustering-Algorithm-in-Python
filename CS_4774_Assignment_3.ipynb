{
  "nbformat": 4,
  "nbformat_minor": 0,
  "metadata": {
    "colab": {
      "name": "CS_4774_Assignment_3.ipynb",
      "provenance": [],
      "collapsed_sections": []
    },
    "kernelspec": {
      "display_name": "Python 3",
      "language": "python",
      "name": "python3"
    }
  },
  "cells": [
    {
      "cell_type": "markdown",
      "metadata": {
        "id": "7cSXh8dy3_tf",
        "colab_type": "text"
      },
      "source": [
        "# Assignment 3: Clustering California Housing with K-means"
      ]
    },
    {
      "cell_type": "markdown",
      "metadata": {
        "id": "Dp4lehex3_ti",
        "colab_type": "text"
      },
      "source": [
        "### CS 4774 Machine Learning - Department of Computer Science - University of Virginia\n",
        "\"Tonight, more than 130,000 Californians will go to sleep homeless. That’s enough to fill Dodger Stadium, AT&T Park and Petco Park. The biggest culprit is rising housing costs. From 2000 to 2014, median rent in California increased by more than one-third, while real incomes for renters fell by 7 percent. Today, 1.5 million Californians spend more than half their income on housing. This crisis threatens not just low-income families but our entire economy, driving businesses to relocate to states in which their employees can afford to live. - **Business Insider, Sep 2018.**\"\n",
        "\n",
        "![Half of the homes in San Franciso is now one million or above](https://amp.businessinsider.com/images/573de0b88d3eaea27198a55d-960-480.jpg)\n",
        "\n",
        "In this assignment, you will attempt to cluster the California Housing by implementing and analyzing the k-means algorithm to the data. K-Means is one of the most popular clustering algorithms. K-means stores k-centroids that it uses to define clusters. A point is considered to be in a particular cluster if it is closer to that cluster's centroid than any other centroid. For references, you may refer to my lecture 9 or Chapter 2 of the textbook if you need additional sample codes to help with your assignment. For deliverables, you must write code in Python and submit this Jupyter Notebook file (.ipynb) to earn a total of 100 pts. You will gain points depending on how you perform in the following sections.\n",
        "\n",
        "**Note**: In order for your assignment to be graded, you must save your Notebook filename under this format: **yourUvaUserId_assignment_3_kmeans.ipynb**.\n"
      ]
    },
    {
      "cell_type": "markdown",
      "metadata": {
        "id": "OLpK737R3_tk",
        "colab_type": "text"
      },
      "source": [
        "---\n",
        "## 1. PRE-PROCESSING THE DATA (10 pts)\n",
        "\n",
        "Download the California Housing dataset from the below link. This dataset includes statistics about the median income, median age, average number of rooms per person, average number of persons in a household etc. The statistics were gathered per geographical block.\n",
        "\n",
        "**Data Acquiring:** Download the dataset from https://www.kaggle.com/camnugent/california-housing-prices\n",
        "\n",
        "**Data Discovery, Visualization, and Cleaning:** Fortunately, this step have been given to you from chapter 2. However, you should review them and write the code necessary for the purposes of this assignment. "
      ]
    },
    {
      "cell_type": "code",
      "metadata": {
        "id": "2WQ3-JIC3_tm",
        "colab_type": "code",
        "colab": {}
      },
      "source": [
        "# You might want to use the following package\n",
        "from pandas.plotting import scatter_matrix # optional\n",
        "from sklearn.preprocessing import Imputer\n",
        "from sklearn.preprocessing import LabelEncoder\n",
        "from sklearn.preprocessing import OneHotEncoder\n",
        "from sklearn.pipeline import Pipeline\n",
        "from sklearn.impute import SimpleImputer\n",
        "from sklearn.preprocessing import StandardScaler\n",
        "from sklearn.compose import ColumnTransformer\n",
        "import pandas as pd\n",
        "import numpy as np\n",
        "\n",
        "# Your code goes here for this section.\n",
        "housing = pd.read_csv(\"housing.csv\")"
      ],
      "execution_count": 0,
      "outputs": []
    },
    {
      "cell_type": "code",
      "metadata": {
        "id": "8-OfHIfgqQya",
        "colab_type": "code",
        "colab": {}
      },
      "source": [
        "housing = housing.drop(['ocean_proximity', 'housing_median_age', 'total_rooms', 'total_bedrooms', 'population', 'households', 'median_income', 'median_house_value'], axis=1)\n",
        "# k-means only works with quantitative variables"
      ],
      "execution_count": 0,
      "outputs": []
    },
    {
      "cell_type": "code",
      "metadata": {
        "id": "hwHElseBmvV2",
        "colab_type": "code",
        "outputId": "e11b0fed-6ab2-434f-e255-9571325017b6",
        "colab": {
          "base_uri": "https://localhost:8080/",
          "height": 204
        }
      },
      "source": [
        "housing.head(5)"
      ],
      "execution_count": 0,
      "outputs": [
        {
          "output_type": "execute_result",
          "data": {
            "text/html": [
              "<div>\n",
              "<style scoped>\n",
              "    .dataframe tbody tr th:only-of-type {\n",
              "        vertical-align: middle;\n",
              "    }\n",
              "\n",
              "    .dataframe tbody tr th {\n",
              "        vertical-align: top;\n",
              "    }\n",
              "\n",
              "    .dataframe thead th {\n",
              "        text-align: right;\n",
              "    }\n",
              "</style>\n",
              "<table border=\"1\" class=\"dataframe\">\n",
              "  <thead>\n",
              "    <tr style=\"text-align: right;\">\n",
              "      <th></th>\n",
              "      <th>longitude</th>\n",
              "      <th>latitude</th>\n",
              "    </tr>\n",
              "  </thead>\n",
              "  <tbody>\n",
              "    <tr>\n",
              "      <th>0</th>\n",
              "      <td>-122.23</td>\n",
              "      <td>37.88</td>\n",
              "    </tr>\n",
              "    <tr>\n",
              "      <th>1</th>\n",
              "      <td>-122.22</td>\n",
              "      <td>37.86</td>\n",
              "    </tr>\n",
              "    <tr>\n",
              "      <th>2</th>\n",
              "      <td>-122.24</td>\n",
              "      <td>37.85</td>\n",
              "    </tr>\n",
              "    <tr>\n",
              "      <th>3</th>\n",
              "      <td>-122.25</td>\n",
              "      <td>37.85</td>\n",
              "    </tr>\n",
              "    <tr>\n",
              "      <th>4</th>\n",
              "      <td>-122.25</td>\n",
              "      <td>37.85</td>\n",
              "    </tr>\n",
              "  </tbody>\n",
              "</table>\n",
              "</div>"
            ],
            "text/plain": [
              "   longitude  latitude\n",
              "0    -122.23     37.88\n",
              "1    -122.22     37.86\n",
              "2    -122.24     37.85\n",
              "3    -122.25     37.85\n",
              "4    -122.25     37.85"
            ]
          },
          "metadata": {
            "tags": []
          },
          "execution_count": 46
        }
      ]
    },
    {
      "cell_type": "code",
      "metadata": {
        "id": "u8bq79Q9nvyA",
        "colab_type": "code",
        "colab": {}
      },
      "source": [
        "num_pipeline = Pipeline([\n",
        "    ('imputer', SimpleImputer(strategy=\"median\")),\n",
        "    ('std_scaler', StandardScaler())\n",
        "])\n",
        "\n",
        "num_attribs = ['housing_median_age', 'total_rooms', 'total_bedrooms', 'population', 'households', 'median_income', 'median_house_value']\n",
        "cat_attribs = []\n",
        "\n",
        "full_pipeline = ColumnTransformer([\n",
        "        (\"num\", num_pipeline, num_attribs),\n",
        "        (\"cat\", OneHotEncoder(), cat_attribs),\n",
        "    ])\n",
        "\n",
        "housing_prepared = full_pipeline.fit_transform(housing)"
      ],
      "execution_count": 0,
      "outputs": []
    },
    {
      "cell_type": "markdown",
      "metadata": {
        "id": "2ZFd6TC_3_ts",
        "colab_type": "text"
      },
      "source": [
        "- - -\n",
        "## 2. IMPLEMENTING K-MEANS (40 pts)\n",
        "\n",
        "You must implement your own version of K-Means Algorithm. Input a cluster count K and M data points each with its own vector of N features, along with the choice of a distance measure; then:\n",
        "\n",
        "1. Initialize K centroids. In our case, a centroid is just the average of all data in a cluster.\n",
        "2. Assign each data point to the cluster that has the closest centroid base on a **distance measure** below.\n",
        "3. After all data points have been assigned to clusters, recalculate the centroids for each cluster (as averages of all points in the cluster).\n",
        "4. Repeat the data assignments and centroid calculations until no change in housing assignment occurs between iterations.\n",
        "\n",
        "**Distance Measures:** Your implementation must include three distance metrics: Manhattan Distance, Euclidean Distance, Sup Distance. These 3 distance metrics can be generalized by the Minkovski Distance:\n",
        "$D(\\mathbf{x},\\mathbf{y}) = \\sqrt[\\leftroot{2}\\uproot{2}p]{\\sum\\limits_{i=1}^n|x_i - y_i|^p}$ where $p=1$ for Mahattan, $p=2$ for Euclidean, and $p=\\infty$ for Sup Distance.\n",
        "\n",
        "**Implementation Notes:** Note that your functions should return distance measures; that is, the returned value should be high if the two vectors are dissimilar, low if they are similar, and zero if they are completely identical."
      ]
    },
    {
      "cell_type": "code",
      "metadata": {
        "id": "PbwRPRYVf8zh",
        "colab_type": "code",
        "outputId": "5174fbdb-6085-42a9-e346-09adcdb806c4",
        "colab": {
          "base_uri": "https://localhost:8080/",
          "height": 34
        }
      },
      "source": [
        "# housing_prepared.max(axis=0)\n",
        "housing_prepared = housing.to_numpy()\n",
        "housing_prepared[0]"
      ],
      "execution_count": 0,
      "outputs": [
        {
          "output_type": "execute_result",
          "data": {
            "text/plain": [
              "array([-122.23,   37.88])"
            ]
          },
          "metadata": {
            "tags": []
          },
          "execution_count": 52
        }
      ]
    },
    {
      "cell_type": "code",
      "metadata": {
        "id": "SB89ZcCw3_tt",
        "colab_type": "code",
        "colab": {}
      },
      "source": [
        "import random\n",
        "import math\n",
        "\n",
        "# K-Means is an algorithm that takes in a dataset and a constant\n",
        "# k and returns k centroids (which define clusters of data in the\n",
        "# dataset which are similar to one another).\n",
        "def kmeans(data, k = 2, p = 2):\n",
        "  rows = data.shape[0]\n",
        "  features = data.shape[1]\n",
        "  centers = []\n",
        "  for i in range(k):\n",
        "    centers.append([])\n",
        "  maxes = data.max(axis=0)\n",
        "  mins = data.min(axis=0)\n",
        "  # randomly assign initial cluster centers\n",
        "  for i in range(k):\n",
        "    center_list = centers[i]\n",
        "    for j in range(features):\n",
        "      max_j = math.floor(maxes[j])\n",
        "      min_j = math.floor(mins[j])\n",
        "      center_list.append(random.randint(min_j, max_j))\n",
        "    centers[i] = center_list\n",
        "  # fit centers\n",
        "  data_clusters = np.zeros(shape=rows) # holds current cluster assignments\n",
        "  old_clusters = np.zeros(shape=rows) # holds cluster assignments from previous iteration\n",
        "  goOn = True\n",
        "  round = 0\n",
        "  while goOn:\n",
        "    print(\"round: \", round)\n",
        "    round += 1\n",
        "    data_clusters = np.zeros(shape=rows)\n",
        "    for i in range(rows):\n",
        "      row_i = data[i] # subset by row of df\n",
        "      dist_from_centers = []\n",
        "      for j in range(k):\n",
        "        sum_dist = 0.0\n",
        "        for l in range(features):\n",
        "          # calcualte distance from each center\n",
        "          row_i_l = row_i[l]\n",
        "          cl_j_l = centers[j][l]\n",
        "          sum_dist += (row_i_l - cl_j_l)**p\n",
        "        root_sum = (sum_dist)**(1/p)\n",
        "        dist_from_centers.append(root_sum)\n",
        "      data_clusters[i] = dist_from_centers.index(min(dist_from_centers))\n",
        "    print(data_clusters)\n",
        "    if np.array_equal(data_clusters, old_clusters):\n",
        "      goOn = False\n",
        "    else:\n",
        "      old_clusters = data_clusters\n",
        "      # re-center cluster centers\n",
        "      for i in range(k):\n",
        "        ind_list = [r for r, value in enumerate(data_clusters) if value == i]\n",
        "        k_sub_df = np.zeros(shape=(len(ind_list), features))\n",
        "        count = 0\n",
        "        for y in range(rows):\n",
        "          if y in ind_list:\n",
        "            k_sub_df[count] = data[y]\n",
        "            count += 1\n",
        "        centers[i] = k_sub_df.mean(axis=0)\n",
        "  return centers"
      ],
      "execution_count": 0,
      "outputs": []
    },
    {
      "cell_type": "markdown",
      "metadata": {
        "id": "t6vW6tyo3_tv",
        "colab_type": "text"
      },
      "source": [
        "- - -\n",
        "## 3. CLUSTERING HOUSING INTO REGIONS (40 pts)\n",
        "\n",
        "Now that you have implemented the K-Means as the clustering algorithm. Applying the algorithm for k=2 clusters to see if you can split California into a Northern and Southern regions.\n",
        "\n",
        "* **Cluster the data:** Report the SSE (sum squared error), cluster means, within cluster standard deviations for each attribute, etc. Visualize the clustering by plot the latitude along the X axis and longitude along the Y axis. You should get a plot that looks roughly in the shape of California (see Chapter 2 for more details). Using the cluster means and std. deviations as representative values in the cluster, what can you say about the clusters that were found? How do they compare with what you know about cities and areas in California? What can you attribute the gaps to? It will definitely be helpful to have a map of California handy.\n",
        "\n",
        "* **Change the number of clusters:** Change k from 2 to 10 and repeat the clustering process above. Record cluster means and standard deviations. When you change k, do any additional patterns emerge? If so, what are they? Applying the algorithm for 10 clusters to see if it clearly identified the silicon valley area as one cluster (where houses are relatively new and expensive, median income is high), the area of San Francisco as another etc. While SF and Silicon Valley may have a somewhat similar profile (at least, compared with mid CA), they were separated mainly due to the latitude/longtitue properties, that involve a dimension of geographical cohesiveness.\n"
      ]
    },
    {
      "cell_type": "code",
      "metadata": {
        "id": "Vi058vv73_tw",
        "colab_type": "code",
        "outputId": "af2c19cc-c918-44de-9060-70c747ba3d45",
        "colab": {
          "base_uri": "https://localhost:8080/",
          "height": 558
        }
      },
      "source": [
        "import matplotlib.pyplot as plt\n",
        "import matplotlib.lines as lines\n",
        "%matplotlib inline\n",
        "random.seed(4)\n",
        "cluster_means = kmeans(housing_prepared)\n",
        "rows = housing_prepared.shape[0]\n",
        "features = housing_prepared.shape[1]\n",
        "data_clusters = np.zeros(shape=rows)\n",
        "sse = 0.0\n",
        "for i in range(rows):\n",
        "  row_i = housing_prepared[i] # subset by row of df\n",
        "  dist_from_centers = []\n",
        "  for j in range(2):\n",
        "    sum_dist = 0.0\n",
        "    for l in range(features):\n",
        "      # calcualte distance from each center\n",
        "      sum_dist += (row_i[l] - cluster_means[j][l])**2\n",
        "    root_sum = (sum_dist)**(1/2)\n",
        "    dist_from_centers.append(root_sum)\n",
        "  sse += min(dist_from_centers)\n",
        "  data_clusters[i] = dist_from_centers.index(min(dist_from_centers))\n",
        "\n",
        "x = []\n",
        "y = []\n",
        "for i in range(rows):\n",
        "  x.append(housing.iloc[i][0])\n",
        "  y.append(housing.iloc[i][1])\n",
        "sc = plt.scatter(x, y, c=data_clusters)\n",
        "plt.colorbar(sc)\n",
        "plt.plot()\n",
        "\n",
        "print(\"SSE: \", sse)\n",
        "for i in range(2):\n",
        "  print(\"Cluster \", i, \" means for long and lat: \", cluster_means[i])\n",
        "\n",
        "# The cluster means for cluster 0 indicate that there are a lot of homes in Los \n",
        "# Angeles and the cluster means for cluster 1 indicate that there are a lot of\n",
        "# homes in San Francisco. "
      ],
      "execution_count": 0,
      "outputs": [
        {
          "output_type": "stream",
          "text": [
            "round:  0\n",
            "[1. 1. 1. ... 1. 1. 1.]\n",
            "round:  1\n",
            "[1. 1. 1. ... 1. 1. 1.]\n",
            "round:  2\n",
            "[1. 1. 1. ... 1. 1. 1.]\n",
            "round:  3\n",
            "[1. 1. 1. ... 1. 1. 1.]\n",
            "round:  4\n",
            "[1. 1. 1. ... 1. 1. 1.]\n",
            "round:  5\n",
            "[1. 1. 1. ... 1. 1. 1.]\n",
            "round:  6\n",
            "[1. 1. 1. ... 1. 1. 1.]\n",
            "SSE:  17857.187283260057\n",
            "Cluster  0  means for long and lat:  [-118.00729556   33.94057002]\n",
            "Cluster  1  means for long and lat:  [-121.71696077   37.9562441 ]\n"
          ],
          "name": "stdout"
        },
        {
          "output_type": "display_data",
          "data": {
            "image/png": "[encoded data removed]",
            "text/plain": [
              "<Figure size 432x288 with 2 Axes>"
            ]
          },
          "metadata": {
            "tags": []
          }
        }
      ]
    },
    {
      "cell_type": "code",
      "metadata": {
        "id": "1hUf7YEL-FJa",
        "colab_type": "code",
        "outputId": "b5483417-d3e2-4bda-afce-da6970ace2e7",
        "colab": {
          "base_uri": "https://localhost:8080/",
          "height": 843
        }
      },
      "source": [
        "import matplotlib.pyplot as plt\n",
        "import matplotlib.lines as lines\n",
        "%matplotlib inline\n",
        "random.seed(4)\n",
        "cluster_means = kmeans(housing_prepared, k=10)\n",
        "rows = housing_prepared.shape[0]\n",
        "features = housing_prepared.shape[1]\n",
        "data_clusters = np.zeros(shape=rows)\n",
        "sse = 0.0\n",
        "for i in range(rows):\n",
        "  row_i = housing_prepared[i] # subset by row of df\n",
        "  dist_from_centers = []\n",
        "  for j in range(10):\n",
        "    sum_dist = 0.0\n",
        "    for l in range(features):\n",
        "      # calcualte distance from each center\n",
        "      sum_dist += (row_i[l] - cluster_means[j][l])**2\n",
        "    root_sum = (sum_dist)**(1/2)\n",
        "    dist_from_centers.append(root_sum)\n",
        "  sse += min(dist_from_centers)\n",
        "  data_clusters[i] = str(dist_from_centers.index(min(dist_from_centers)))\n",
        "\n",
        "x = []\n",
        "y = []\n",
        "for i in range(rows):\n",
        "  x.append(housing.iloc[i][0])\n",
        "  y.append(housing.iloc[i][1])\n",
        "from mlxtend.plotting import category_scatter\n",
        "final_data = {\"x\":x, \"y\":y, \"colors\":data_clusters}\n",
        "final_df = pd.DataFrame(final_data)\n",
        "\n",
        "fig = category_scatter(x=\"x\", y=\"y\", label_col=\"colors\", data = final_df, legend_loc=False)\n",
        "\n",
        "print(\"SSE: \", sse)\n",
        "\n",
        "# Northern California is grouped into it's own cluster. San Francisco/Oakland \n",
        "# looks to claim it's own cluster. Los Angeles/Palm Springs seems to warrant \n",
        "# it's own cluster as well. Southern California south of LA gets it's own \n",
        "# cluster too. "
      ],
      "execution_count": 0,
      "outputs": [
        {
          "output_type": "stream",
          "text": [
            "round:  0\n",
            "[1. 1. 1. ... 1. 1. 1.]\n"
          ],
          "name": "stdout"
        },
        {
          "output_type": "stream",
          "text": [
            "/usr/local/lib/python3.6/dist-packages/ipykernel_launcher.py:60: RuntimeWarning: Mean of empty slice.\n",
            "/usr/local/lib/python3.6/dist-packages/numpy/core/_methods.py:154: RuntimeWarning: invalid value encountered in true_divide\n",
            "  ret, rcount, out=ret, casting='unsafe', subok=False)\n"
          ],
          "name": "stderr"
        },
        {
          "output_type": "stream",
          "text": [
            "round:  1\n",
            "[0. 0. 0. ... 7. 7. 7.]\n",
            "round:  2\n",
            "[0. 0. 0. ... 7. 7. 7.]\n",
            "round:  3\n",
            "[0. 0. 0. ... 7. 7. 7.]\n",
            "round:  4\n",
            "[0. 0. 0. ... 7. 7. 7.]\n",
            "round:  5\n",
            "[0. 0. 0. ... 7. 7. 7.]\n",
            "round:  6\n",
            "[0. 0. 0. ... 7. 7. 7.]\n",
            "round:  7\n",
            "[0. 0. 0. ... 7. 7. 7.]\n",
            "round:  8\n",
            "[0. 0. 0. ... 7. 7. 7.]\n",
            "round:  9\n",
            "[0. 0. 0. ... 7. 7. 7.]\n",
            "round:  10\n",
            "[0. 0. 0. ... 7. 7. 7.]\n",
            "round:  11\n",
            "[0. 0. 0. ... 7. 7. 7.]\n",
            "round:  12\n",
            "[0. 0. 0. ... 7. 7. 7.]\n",
            "round:  13\n",
            "[0. 0. 0. ... 7. 7. 7.]\n",
            "round:  14\n",
            "[0. 0. 0. ... 7. 7. 7.]\n",
            "SSE:  10267.156574377657\n"
          ],
          "name": "stdout"
        },
        {
          "output_type": "display_data",
          "data": {
            "image/png": "[encoded data removed]",
            "text/plain": [
              "<Figure size 432x288 with 1 Axes>"
            ]
          },
          "metadata": {
            "tags": []
          }
        }
      ]
    }
  ]
}